{
 "cells": [
  {
   "cell_type": "markdown",
   "metadata": {},
   "source": [
    "## Modelling Notebook\n",
    "\n",
    "This notebook is to be used for testing out the various models that you want to use. No preprocessing will be done in this notebook. Steps:\n",
    "\n",
    "1. Read in `input/train.csv`,`input/test.csv`,`input/validation.csv` that you created in the `Data Cleaning.ipynb`\n",
    "2. Train your model(s) on `input/train.csv` and EVALUATE (no training) with appropriate metrics (accuracy/MSE etc) on `input/validation.csv` \n",
    "3. Pick a final model and EVALUATE(no training) on `input/test.csv` and print metrics\n",
    "3. Pick a final model and save it as `models/model.pkl`"
   ]
  },
  {
   "cell_type": "code",
   "execution_count": 1,
   "metadata": {},
   "outputs": [],
   "source": [
    "import numpy as np\n",
    "import pandas as pd\n",
    "import tensorflow as tf\n",
    "import matplotlib.pyplot as plt\n",
    "from tensorflow.keras.models import Sequential\n",
    "from tensorflow.keras import layers"
   ]
  },
  {
   "cell_type": "code",
   "execution_count": 2,
   "metadata": {},
   "outputs": [],
   "source": [
    "train_df=pd.read_csv(\"../input/train.csv\")\n",
    "test_df=pd.read_csv(\"../input/test.csv\")\n",
    "validation_df=pd.read_csv(\"../input/validation.csv\")"
   ]
  },
  {
   "cell_type": "code",
   "execution_count": 3,
   "metadata": {},
   "outputs": [],
   "source": [
    "def return_X_and_y(df):\n",
    "    return df.drop(columns=[\"target\"]),df[\"target\"]"
   ]
  },
  {
   "cell_type": "code",
   "execution_count": 4,
   "metadata": {},
   "outputs": [],
   "source": [
    "X_train,y_train=return_X_and_y(train_df)\n",
    "X_test,y_test=return_X_and_y(test_df)\n",
    "X_val,y_val=return_X_and_y(validation_df)"
   ]
  },
  {
   "cell_type": "code",
   "execution_count": 5,
   "metadata": {},
   "outputs": [
    {
     "data": {
      "text/plain": [
       "(27541, 17)"
      ]
     },
     "execution_count": 5,
     "metadata": {},
     "output_type": "execute_result"
    }
   ],
   "source": [
    "X_train.shape"
   ]
  },
  {
   "cell_type": "code",
   "execution_count": 16,
   "metadata": {},
   "outputs": [],
   "source": [
    "model=Sequential()\n",
    "model.add(layers.Dense(300,activation=\"relu\",input_shape=(X_train.shape[1],)))\n",
    "model.add(layers.Dense(150,activation=\"relu\"))\n",
    "model.add(layers.Dense(150,activation=\"relu\"))\n",
    "model.add(layers.Dense(150,activation=\"relu\"))\n",
    "model.add(layers.Dense(75,activation=\"relu\"))\n",
    "model.add(layers.Dense(1,activation=\"sigmoid\"))"
   ]
  },
  {
   "cell_type": "code",
   "execution_count": 17,
   "metadata": {},
   "outputs": [
    {
     "name": "stdout",
     "output_type": "stream",
     "text": [
      "Model: \"sequential_2\"\n",
      "_________________________________________________________________\n",
      "Layer (type)                 Output Shape              Param #   \n",
      "=================================================================\n",
      "dense_8 (Dense)              (None, 300)               5400      \n",
      "_________________________________________________________________\n",
      "dense_9 (Dense)              (None, 150)               45150     \n",
      "_________________________________________________________________\n",
      "dense_10 (Dense)             (None, 150)               22650     \n",
      "_________________________________________________________________\n",
      "dense_11 (Dense)             (None, 150)               22650     \n",
      "_________________________________________________________________\n",
      "dense_12 (Dense)             (None, 75)                11325     \n",
      "_________________________________________________________________\n",
      "dense_13 (Dense)             (None, 1)                 76        \n",
      "=================================================================\n",
      "Total params: 107,251\n",
      "Trainable params: 107,251\n",
      "Non-trainable params: 0\n",
      "_________________________________________________________________\n"
     ]
    }
   ],
   "source": [
    "model.summary()"
   ]
  },
  {
   "cell_type": "code",
   "execution_count": 18,
   "metadata": {},
   "outputs": [
    {
     "data": {
      "text/plain": [
       "1    13798\n",
       "0    13743\n",
       "Name: target, dtype: int64"
      ]
     },
     "execution_count": 18,
     "metadata": {},
     "output_type": "execute_result"
    }
   ],
   "source": [
    "y_train.value_counts()"
   ]
  },
  {
   "cell_type": "code",
   "execution_count": 19,
   "metadata": {},
   "outputs": [],
   "source": [
    "model.compile(loss='binary_crossentropy', optimizer='adam', metrics=['accuracy'])"
   ]
  },
  {
   "cell_type": "code",
   "execution_count": 20,
   "metadata": {},
   "outputs": [
    {
     "name": "stdout",
     "output_type": "stream",
     "text": [
      "Epoch 1/300\n",
      "276/276 [==============================] - 2s 5ms/step - loss: 0.5181 - accuracy: 0.7385 - val_loss: 0.4725 - val_accuracy: 0.7729\n",
      "Epoch 2/300\n",
      "276/276 [==============================] - 1s 4ms/step - loss: 0.4831 - accuracy: 0.7637 - val_loss: 0.4670 - val_accuracy: 0.7772\n",
      "Epoch 3/300\n",
      "276/276 [==============================] - 1s 4ms/step - loss: 0.4711 - accuracy: 0.7753 - val_loss: 0.4615 - val_accuracy: 0.7798\n",
      "Epoch 4/300\n",
      "276/276 [==============================] - 1s 4ms/step - loss: 0.4674 - accuracy: 0.7751 - val_loss: 0.4562 - val_accuracy: 0.7847\n",
      "Epoch 5/300\n",
      "276/276 [==============================] - 1s 4ms/step - loss: 0.4611 - accuracy: 0.7783 - val_loss: 0.4552 - val_accuracy: 0.7848\n",
      "Epoch 6/300\n",
      "276/276 [==============================] - 1s 4ms/step - loss: 0.4574 - accuracy: 0.7820 - val_loss: 0.4618 - val_accuracy: 0.7770\n",
      "Epoch 7/300\n",
      "276/276 [==============================] - 1s 4ms/step - loss: 0.4533 - accuracy: 0.7841 - val_loss: 0.4435 - val_accuracy: 0.7914\n",
      "Epoch 8/300\n",
      "276/276 [==============================] - 1s 4ms/step - loss: 0.4473 - accuracy: 0.7884 - val_loss: 0.4399 - val_accuracy: 0.7963\n",
      "Epoch 9/300\n",
      "276/276 [==============================] - 1s 4ms/step - loss: 0.4430 - accuracy: 0.7928 - val_loss: 0.4526 - val_accuracy: 0.7875\n",
      "Epoch 10/300\n",
      "276/276 [==============================] - 1s 4ms/step - loss: 0.4421 - accuracy: 0.7904 - val_loss: 0.4462 - val_accuracy: 0.7919\n",
      "Epoch 11/300\n",
      "276/276 [==============================] - 1s 4ms/step - loss: 0.4387 - accuracy: 0.7939 - val_loss: 0.4396 - val_accuracy: 0.7943\n",
      "Epoch 12/300\n",
      "276/276 [==============================] - 1s 4ms/step - loss: 0.4333 - accuracy: 0.7972 - val_loss: 0.4339 - val_accuracy: 0.8003\n",
      "Epoch 13/300\n",
      "276/276 [==============================] - 1s 4ms/step - loss: 0.4294 - accuracy: 0.7995 - val_loss: 0.4369 - val_accuracy: 0.7997\n",
      "Epoch 14/300\n",
      "276/276 [==============================] - 1s 4ms/step - loss: 0.4255 - accuracy: 0.8015 - val_loss: 0.4283 - val_accuracy: 0.8018\n",
      "Epoch 15/300\n",
      "276/276 [==============================] - 1s 4ms/step - loss: 0.4237 - accuracy: 0.8006 - val_loss: 0.4370 - val_accuracy: 0.7947\n",
      "Epoch 16/300\n",
      "276/276 [==============================] - 1s 4ms/step - loss: 0.4201 - accuracy: 0.8042 - val_loss: 0.4425 - val_accuracy: 0.7914\n",
      "Epoch 17/300\n",
      "276/276 [==============================] - 1s 4ms/step - loss: 0.4157 - accuracy: 0.8052 - val_loss: 0.4299 - val_accuracy: 0.8030\n",
      "Epoch 18/300\n",
      "276/276 [==============================] - 1s 4ms/step - loss: 0.4128 - accuracy: 0.8074 - val_loss: 0.4212 - val_accuracy: 0.8047\n",
      "Epoch 19/300\n",
      "276/276 [==============================] - 1s 4ms/step - loss: 0.4104 - accuracy: 0.8104 - val_loss: 0.4143 - val_accuracy: 0.8103\n",
      "Epoch 20/300\n",
      "276/276 [==============================] - 1s 4ms/step - loss: 0.4055 - accuracy: 0.8112 - val_loss: 0.4248 - val_accuracy: 0.8041\n",
      "Epoch 21/300\n",
      "276/276 [==============================] - 1s 5ms/step - loss: 0.3997 - accuracy: 0.8147 - val_loss: 0.4188 - val_accuracy: 0.8056\n",
      "Epoch 22/300\n",
      "276/276 [==============================] - 1s 5ms/step - loss: 0.3983 - accuracy: 0.8155 - val_loss: 0.4183 - val_accuracy: 0.8099\n",
      "Epoch 23/300\n",
      "276/276 [==============================] - 1s 5ms/step - loss: 0.3943 - accuracy: 0.8201 - val_loss: 0.4145 - val_accuracy: 0.8101\n",
      "Epoch 24/300\n",
      "276/276 [==============================] - 1s 5ms/step - loss: 0.3896 - accuracy: 0.8204 - val_loss: 0.4123 - val_accuracy: 0.8140\n",
      "Epoch 25/300\n",
      "276/276 [==============================] - 1s 5ms/step - loss: 0.3860 - accuracy: 0.8228 - val_loss: 0.4141 - val_accuracy: 0.8112\n",
      "Epoch 26/300\n",
      "276/276 [==============================] - 1s 5ms/step - loss: 0.3812 - accuracy: 0.8264 - val_loss: 0.4150 - val_accuracy: 0.8118\n",
      "Epoch 27/300\n",
      "276/276 [==============================] - 1s 5ms/step - loss: 0.3762 - accuracy: 0.8299 - val_loss: 0.4159 - val_accuracy: 0.8152\n",
      "Epoch 28/300\n",
      "276/276 [==============================] - 1s 5ms/step - loss: 0.3742 - accuracy: 0.8290 - val_loss: 0.4107 - val_accuracy: 0.8132\n",
      "Epoch 29/300\n",
      "276/276 [==============================] - 1s 5ms/step - loss: 0.3697 - accuracy: 0.8329 - val_loss: 0.4196 - val_accuracy: 0.8128\n",
      "Epoch 30/300\n",
      "276/276 [==============================] - 1s 5ms/step - loss: 0.3641 - accuracy: 0.8344 - val_loss: 0.4195 - val_accuracy: 0.8153\n",
      "Epoch 31/300\n",
      "276/276 [==============================] - 1s 5ms/step - loss: 0.3603 - accuracy: 0.8376 - val_loss: 0.4150 - val_accuracy: 0.8192\n",
      "Epoch 32/300\n",
      "276/276 [==============================] - 1s 5ms/step - loss: 0.3566 - accuracy: 0.8398 - val_loss: 0.4272 - val_accuracy: 0.8161\n",
      "Epoch 33/300\n",
      "276/276 [==============================] - 1s 5ms/step - loss: 0.3515 - accuracy: 0.8414 - val_loss: 0.4101 - val_accuracy: 0.8159\n",
      "Epoch 34/300\n",
      "276/276 [==============================] - 1s 5ms/step - loss: 0.3460 - accuracy: 0.8426 - val_loss: 0.4331 - val_accuracy: 0.8130\n",
      "Epoch 35/300\n",
      "276/276 [==============================] - 1s 5ms/step - loss: 0.3440 - accuracy: 0.8429 - val_loss: 0.4553 - val_accuracy: 0.8150\n",
      "Epoch 36/300\n",
      "276/276 [==============================] - 1s 5ms/step - loss: 0.3392 - accuracy: 0.8482 - val_loss: 0.4199 - val_accuracy: 0.8185\n",
      "Epoch 37/300\n",
      "276/276 [==============================] - 1s 5ms/step - loss: 0.3353 - accuracy: 0.8501 - val_loss: 0.4263 - val_accuracy: 0.8195\n",
      "Epoch 38/300\n",
      "276/276 [==============================] - 1s 5ms/step - loss: 0.3301 - accuracy: 0.8527 - val_loss: 0.4424 - val_accuracy: 0.8172\n",
      "Epoch 39/300\n",
      "276/276 [==============================] - 1s 5ms/step - loss: 0.3272 - accuracy: 0.8521 - val_loss: 0.4314 - val_accuracy: 0.8263\n",
      "Epoch 40/300\n",
      "276/276 [==============================] - 1s 5ms/step - loss: 0.3218 - accuracy: 0.8580 - val_loss: 0.4282 - val_accuracy: 0.8238\n",
      "Epoch 41/300\n",
      "276/276 [==============================] - 1s 5ms/step - loss: 0.3176 - accuracy: 0.8569 - val_loss: 0.4220 - val_accuracy: 0.8274\n",
      "Epoch 42/300\n",
      "276/276 [==============================] - 1s 5ms/step - loss: 0.3155 - accuracy: 0.8600 - val_loss: 0.4711 - val_accuracy: 0.8199\n",
      "Epoch 43/300\n",
      "276/276 [==============================] - 1s 5ms/step - loss: 0.3085 - accuracy: 0.8618 - val_loss: 0.4347 - val_accuracy: 0.8251\n",
      "Epoch 44/300\n",
      "276/276 [==============================] - 1s 5ms/step - loss: 0.3045 - accuracy: 0.8645 - val_loss: 0.4436 - val_accuracy: 0.8218\n",
      "Epoch 45/300\n",
      "276/276 [==============================] - 1s 5ms/step - loss: 0.2983 - accuracy: 0.8665 - val_loss: 0.4523 - val_accuracy: 0.8219\n",
      "Epoch 46/300\n",
      "276/276 [==============================] - 1s 5ms/step - loss: 0.2966 - accuracy: 0.8692 - val_loss: 0.4456 - val_accuracy: 0.8262\n",
      "Epoch 47/300\n",
      "276/276 [==============================] - 1s 5ms/step - loss: 0.2899 - accuracy: 0.8726 - val_loss: 0.4563 - val_accuracy: 0.8252\n",
      "Epoch 48/300\n",
      "276/276 [==============================] - 1s 5ms/step - loss: 0.2855 - accuracy: 0.8734 - val_loss: 0.4564 - val_accuracy: 0.8252\n",
      "Epoch 49/300\n",
      "276/276 [==============================] - 1s 5ms/step - loss: 0.2871 - accuracy: 0.8714 - val_loss: 0.4550 - val_accuracy: 0.8271\n",
      "Epoch 50/300\n",
      "276/276 [==============================] - 1s 5ms/step - loss: 0.2735 - accuracy: 0.8776 - val_loss: 0.4768 - val_accuracy: 0.8278\n",
      "Epoch 51/300\n",
      "276/276 [==============================] - 1s 5ms/step - loss: 0.2717 - accuracy: 0.8812 - val_loss: 0.4723 - val_accuracy: 0.8242\n",
      "Epoch 52/300\n",
      "276/276 [==============================] - 1s 5ms/step - loss: 0.2669 - accuracy: 0.8808 - val_loss: 0.5053 - val_accuracy: 0.8225\n",
      "Epoch 53/300\n",
      "276/276 [==============================] - 1s 5ms/step - loss: 0.2635 - accuracy: 0.8834 - val_loss: 0.4843 - val_accuracy: 0.8162\n",
      "Epoch 54/300\n",
      "276/276 [==============================] - 1s 5ms/step - loss: 0.2573 - accuracy: 0.8867 - val_loss: 0.4857 - val_accuracy: 0.8296\n",
      "Epoch 55/300\n",
      "276/276 [==============================] - 1s 5ms/step - loss: 0.2545 - accuracy: 0.8886 - val_loss: 0.5306 - val_accuracy: 0.8310\n",
      "Epoch 56/300\n",
      "276/276 [==============================] - 1s 5ms/step - loss: 0.2549 - accuracy: 0.8884 - val_loss: 0.4933 - val_accuracy: 0.8302\n",
      "Epoch 57/300\n",
      "276/276 [==============================] - 1s 5ms/step - loss: 0.2420 - accuracy: 0.8939 - val_loss: 0.5064 - val_accuracy: 0.8324\n",
      "Epoch 58/300\n",
      "276/276 [==============================] - 1s 5ms/step - loss: 0.2427 - accuracy: 0.8941 - val_loss: 0.5284 - val_accuracy: 0.8328\n",
      "Epoch 59/300\n",
      "276/276 [==============================] - 1s 5ms/step - loss: 0.2350 - accuracy: 0.8975 - val_loss: 0.5338 - val_accuracy: 0.8275\n",
      "Epoch 60/300\n",
      "276/276 [==============================] - 1s 5ms/step - loss: 0.2294 - accuracy: 0.9016 - val_loss: 0.5195 - val_accuracy: 0.8311\n",
      "Epoch 61/300\n",
      "276/276 [==============================] - 1s 5ms/step - loss: 0.2303 - accuracy: 0.9010 - val_loss: 0.5584 - val_accuracy: 0.8279\n",
      "Epoch 62/300\n",
      "276/276 [==============================] - 1s 5ms/step - loss: 0.2239 - accuracy: 0.9052 - val_loss: 0.6239 - val_accuracy: 0.8306\n",
      "Epoch 63/300\n",
      "276/276 [==============================] - 1s 5ms/step - loss: 0.2266 - accuracy: 0.9025 - val_loss: 0.5581 - val_accuracy: 0.8290\n",
      "Epoch 64/300\n",
      "276/276 [==============================] - 1s 5ms/step - loss: 0.2201 - accuracy: 0.9054 - val_loss: 0.5600 - val_accuracy: 0.8286\n",
      "Epoch 65/300\n",
      "276/276 [==============================] - 1s 5ms/step - loss: 0.2119 - accuracy: 0.9077 - val_loss: 0.5660 - val_accuracy: 0.8334\n",
      "Epoch 66/300\n",
      "276/276 [==============================] - 1s 5ms/step - loss: 0.2198 - accuracy: 0.9055 - val_loss: 0.5534 - val_accuracy: 0.8369\n",
      "Epoch 67/300\n",
      "276/276 [==============================] - 1s 5ms/step - loss: 0.2051 - accuracy: 0.9129 - val_loss: 0.5464 - val_accuracy: 0.8340\n",
      "Epoch 68/300\n",
      "276/276 [==============================] - 1s 5ms/step - loss: 0.2063 - accuracy: 0.9108 - val_loss: 0.5820 - val_accuracy: 0.8347\n",
      "Epoch 69/300\n",
      "276/276 [==============================] - 1s 5ms/step - loss: 0.2029 - accuracy: 0.9122 - val_loss: 0.6067 - val_accuracy: 0.8279\n",
      "Epoch 70/300\n",
      "276/276 [==============================] - 1s 5ms/step - loss: 0.1995 - accuracy: 0.9141 - val_loss: 0.5602 - val_accuracy: 0.8414\n",
      "Epoch 71/300\n",
      "276/276 [==============================] - 1s 5ms/step - loss: 0.1886 - accuracy: 0.9199 - val_loss: 0.5872 - val_accuracy: 0.8348\n",
      "Epoch 72/300\n",
      "276/276 [==============================] - 1s 5ms/step - loss: 0.1912 - accuracy: 0.9176 - val_loss: 0.5893 - val_accuracy: 0.8330\n",
      "Epoch 73/300\n",
      "276/276 [==============================] - 1s 5ms/step - loss: 0.1793 - accuracy: 0.9250 - val_loss: 0.6417 - val_accuracy: 0.8353\n",
      "Epoch 74/300\n",
      "276/276 [==============================] - 1s 5ms/step - loss: 0.1822 - accuracy: 0.9229 - val_loss: 0.6234 - val_accuracy: 0.8342\n",
      "Epoch 75/300\n",
      "276/276 [==============================] - 1s 5ms/step - loss: 0.1822 - accuracy: 0.9219 - val_loss: 0.5889 - val_accuracy: 0.8365\n",
      "Epoch 76/300\n",
      "276/276 [==============================] - 1s 5ms/step - loss: 0.1804 - accuracy: 0.9225 - val_loss: 0.6408 - val_accuracy: 0.8405\n",
      "Epoch 77/300\n",
      "276/276 [==============================] - 1s 5ms/step - loss: 0.1757 - accuracy: 0.9260 - val_loss: 0.6485 - val_accuracy: 0.8371\n",
      "Epoch 78/300\n",
      "276/276 [==============================] - 1s 5ms/step - loss: 0.1823 - accuracy: 0.9238 - val_loss: 0.6630 - val_accuracy: 0.8404\n",
      "Epoch 79/300\n",
      "276/276 [==============================] - 1s 5ms/step - loss: 0.1708 - accuracy: 0.9264 - val_loss: 0.6458 - val_accuracy: 0.8322\n",
      "Epoch 80/300\n",
      "276/276 [==============================] - 1s 5ms/step - loss: 0.1677 - accuracy: 0.9287 - val_loss: 0.7299 - val_accuracy: 0.8340\n",
      "Epoch 81/300\n",
      "276/276 [==============================] - 1s 5ms/step - loss: 0.1647 - accuracy: 0.9304 - val_loss: 0.6645 - val_accuracy: 0.8337\n",
      "Epoch 82/300\n",
      "276/276 [==============================] - 1s 5ms/step - loss: 0.1520 - accuracy: 0.9372 - val_loss: 0.7410 - val_accuracy: 0.8389\n",
      "Epoch 83/300\n",
      "276/276 [==============================] - 1s 5ms/step - loss: 0.1603 - accuracy: 0.9332 - val_loss: 0.6713 - val_accuracy: 0.8241\n",
      "Epoch 84/300\n",
      "276/276 [==============================] - 1s 5ms/step - loss: 0.1601 - accuracy: 0.9333 - val_loss: 0.6468 - val_accuracy: 0.8411\n",
      "Epoch 85/300\n",
      "276/276 [==============================] - 1s 5ms/step - loss: 0.1466 - accuracy: 0.9383 - val_loss: 0.6942 - val_accuracy: 0.8410\n",
      "Epoch 86/300\n",
      "276/276 [==============================] - 1s 5ms/step - loss: 0.1553 - accuracy: 0.9349 - val_loss: 0.6756 - val_accuracy: 0.8315\n",
      "Epoch 87/300\n",
      "276/276 [==============================] - 1s 5ms/step - loss: 0.1474 - accuracy: 0.9384 - val_loss: 0.7043 - val_accuracy: 0.8333\n",
      "Epoch 88/300\n",
      "276/276 [==============================] - 1s 5ms/step - loss: 0.1375 - accuracy: 0.9444 - val_loss: 0.7568 - val_accuracy: 0.8401\n",
      "Epoch 89/300\n",
      "276/276 [==============================] - 1s 5ms/step - loss: 0.1458 - accuracy: 0.9401 - val_loss: 0.7013 - val_accuracy: 0.8438\n",
      "Epoch 90/300\n",
      "276/276 [==============================] - 1s 5ms/step - loss: 0.1350 - accuracy: 0.9446 - val_loss: 0.7675 - val_accuracy: 0.8403\n",
      "Epoch 91/300\n",
      "276/276 [==============================] - 1s 5ms/step - loss: 0.1395 - accuracy: 0.9427 - val_loss: 0.7347 - val_accuracy: 0.8362\n",
      "Epoch 92/300\n",
      "276/276 [==============================] - 1s 5ms/step - loss: 0.1339 - accuracy: 0.9455 - val_loss: 0.7517 - val_accuracy: 0.8353\n",
      "Epoch 93/300\n",
      "276/276 [==============================] - 1s 5ms/step - loss: 0.1349 - accuracy: 0.9442 - val_loss: 0.7244 - val_accuracy: 0.8432\n",
      "Epoch 94/300\n",
      "276/276 [==============================] - 1s 5ms/step - loss: 0.1261 - accuracy: 0.9476 - val_loss: 0.7812 - val_accuracy: 0.8354\n",
      "Epoch 95/300\n",
      "276/276 [==============================] - 1s 5ms/step - loss: 0.1239 - accuracy: 0.9504 - val_loss: 0.7811 - val_accuracy: 0.8373\n",
      "Epoch 96/300\n",
      "276/276 [==============================] - 1s 5ms/step - loss: 0.1233 - accuracy: 0.9501 - val_loss: 0.7689 - val_accuracy: 0.8351\n",
      "Epoch 97/300\n",
      "276/276 [==============================] - 1s 5ms/step - loss: 0.1294 - accuracy: 0.9472 - val_loss: 0.7464 - val_accuracy: 0.8446\n",
      "Epoch 98/300\n",
      "276/276 [==============================] - 1s 5ms/step - loss: 0.1171 - accuracy: 0.9536 - val_loss: 0.7761 - val_accuracy: 0.8341\n",
      "Epoch 99/300\n",
      "276/276 [==============================] - 1s 5ms/step - loss: 0.1271 - accuracy: 0.9506 - val_loss: 0.7284 - val_accuracy: 0.8415\n",
      "Epoch 100/300\n",
      "276/276 [==============================] - 1s 5ms/step - loss: 0.1141 - accuracy: 0.9544 - val_loss: 0.7722 - val_accuracy: 0.8379\n",
      "Epoch 101/300\n",
      "276/276 [==============================] - 1s 5ms/step - loss: 0.1077 - accuracy: 0.9565 - val_loss: 0.8089 - val_accuracy: 0.8360\n",
      "Epoch 102/300\n",
      "276/276 [==============================] - 1s 5ms/step - loss: 0.1256 - accuracy: 0.9494 - val_loss: 0.7598 - val_accuracy: 0.8425\n",
      "Epoch 103/300\n",
      "276/276 [==============================] - 1s 5ms/step - loss: 0.1087 - accuracy: 0.9557 - val_loss: 0.7724 - val_accuracy: 0.8429\n",
      "Epoch 104/300\n",
      "276/276 [==============================] - 1s 5ms/step - loss: 0.1146 - accuracy: 0.9540 - val_loss: 0.7912 - val_accuracy: 0.8370\n",
      "Epoch 105/300\n",
      "276/276 [==============================] - 1s 5ms/step - loss: 0.1050 - accuracy: 0.9584 - val_loss: 0.8038 - val_accuracy: 0.8328\n",
      "Epoch 106/300\n",
      "276/276 [==============================] - 1s 5ms/step - loss: 0.1115 - accuracy: 0.9561 - val_loss: 0.7494 - val_accuracy: 0.8367\n",
      "Epoch 107/300\n",
      "276/276 [==============================] - 1s 5ms/step - loss: 0.1067 - accuracy: 0.9575 - val_loss: 0.8158 - val_accuracy: 0.8420\n",
      "Epoch 108/300\n",
      "276/276 [==============================] - 1s 5ms/step - loss: 0.0947 - accuracy: 0.9638 - val_loss: 0.8129 - val_accuracy: 0.8428\n",
      "Epoch 109/300\n",
      "276/276 [==============================] - 1s 5ms/step - loss: 0.1036 - accuracy: 0.9588 - val_loss: 0.8086 - val_accuracy: 0.8366\n",
      "Epoch 110/300\n",
      "276/276 [==============================] - 1s 4ms/step - loss: 0.1024 - accuracy: 0.9594 - val_loss: 0.8570 - val_accuracy: 0.8453\n",
      "Epoch 111/300\n",
      "276/276 [==============================] - 1s 4ms/step - loss: 0.1039 - accuracy: 0.9588 - val_loss: 0.8493 - val_accuracy: 0.8309\n",
      "Epoch 112/300\n",
      "276/276 [==============================] - 1s 4ms/step - loss: 0.0917 - accuracy: 0.9624 - val_loss: 0.8666 - val_accuracy: 0.8366\n",
      "Epoch 113/300\n",
      "276/276 [==============================] - 1s 4ms/step - loss: 0.1063 - accuracy: 0.9573 - val_loss: 0.7827 - val_accuracy: 0.8438\n",
      "Epoch 114/300\n",
      "276/276 [==============================] - 1s 4ms/step - loss: 0.0908 - accuracy: 0.9639 - val_loss: 0.8500 - val_accuracy: 0.8423\n",
      "Epoch 115/300\n",
      "276/276 [==============================] - 1s 4ms/step - loss: 0.0975 - accuracy: 0.9615 - val_loss: 0.9301 - val_accuracy: 0.8333\n",
      "Epoch 116/300\n",
      "276/276 [==============================] - 1s 4ms/step - loss: 0.1026 - accuracy: 0.9604 - val_loss: 0.8495 - val_accuracy: 0.8428\n",
      "Epoch 117/300\n",
      "276/276 [==============================] - 1s 4ms/step - loss: 0.0893 - accuracy: 0.9649 - val_loss: 0.8228 - val_accuracy: 0.8410\n",
      "Epoch 118/300\n",
      "276/276 [==============================] - 1s 4ms/step - loss: 0.0860 - accuracy: 0.9658 - val_loss: 0.9098 - val_accuracy: 0.8389\n",
      "Epoch 119/300\n",
      "248/276 [=========================>....] - ETA: 0s - loss: 0.0915 - accuracy: 0.9635"
     ]
    },
    {
     "ename": "KeyboardInterrupt",
     "evalue": "",
     "output_type": "error",
     "traceback": [
      "\u001b[1;31m---------------------------------------------------------------------------\u001b[0m",
      "\u001b[1;31mKeyboardInterrupt\u001b[0m                         Traceback (most recent call last)",
      "\u001b[1;32mc:\\Users\\Ashwin\\Projects\\Spotify-Hit-Predictor\\notebooks\\Model Building.ipynb Cell 11\u001b[0m in \u001b[0;36m<cell line: 1>\u001b[1;34m()\u001b[0m\n\u001b[1;32m----> <a href='vscode-notebook-cell:/c%3A/Users/Ashwin/Projects/Spotify-Hit-Predictor/notebooks/Model%20Building.ipynb#ch0000010?line=0'>1</a>\u001b[0m history\u001b[39m=\u001b[39mmodel\u001b[39m.\u001b[39;49mfit(X_train,y_train,batch_size\u001b[39m=\u001b[39;49m\u001b[39m100\u001b[39;49m,epochs\u001b[39m=\u001b[39;49m\u001b[39m300\u001b[39;49m,validation_data\u001b[39m=\u001b[39;49m(X_val,y_val))\n",
      "File \u001b[1;32mc:\\Users\\Ashwin\\miniconda3\\envs\\tf_gpu\\lib\\site-packages\\tensorflow\\python\\keras\\engine\\training.py:1193\u001b[0m, in \u001b[0;36mModel.fit\u001b[1;34m(self, x, y, batch_size, epochs, verbose, callbacks, validation_split, validation_data, shuffle, class_weight, sample_weight, initial_epoch, steps_per_epoch, validation_steps, validation_batch_size, validation_freq, max_queue_size, workers, use_multiprocessing)\u001b[0m\n\u001b[0;32m   1186\u001b[0m \u001b[39mwith\u001b[39;00m trace\u001b[39m.\u001b[39mTrace(\n\u001b[0;32m   1187\u001b[0m     \u001b[39m'\u001b[39m\u001b[39mtrain\u001b[39m\u001b[39m'\u001b[39m,\n\u001b[0;32m   1188\u001b[0m     epoch_num\u001b[39m=\u001b[39mepoch,\n\u001b[0;32m   1189\u001b[0m     step_num\u001b[39m=\u001b[39mstep,\n\u001b[0;32m   1190\u001b[0m     batch_size\u001b[39m=\u001b[39mbatch_size,\n\u001b[0;32m   1191\u001b[0m     _r\u001b[39m=\u001b[39m\u001b[39m1\u001b[39m):\n\u001b[0;32m   1192\u001b[0m   callbacks\u001b[39m.\u001b[39mon_train_batch_begin(step)\n\u001b[1;32m-> 1193\u001b[0m   tmp_logs \u001b[39m=\u001b[39m \u001b[39mself\u001b[39;49m\u001b[39m.\u001b[39;49mtrain_function(iterator)\n\u001b[0;32m   1194\u001b[0m   \u001b[39mif\u001b[39;00m data_handler\u001b[39m.\u001b[39mshould_sync:\n\u001b[0;32m   1195\u001b[0m     context\u001b[39m.\u001b[39masync_wait()\n",
      "File \u001b[1;32mc:\\Users\\Ashwin\\miniconda3\\envs\\tf_gpu\\lib\\site-packages\\tensorflow\\python\\eager\\def_function.py:885\u001b[0m, in \u001b[0;36mFunction.__call__\u001b[1;34m(self, *args, **kwds)\u001b[0m\n\u001b[0;32m    882\u001b[0m compiler \u001b[39m=\u001b[39m \u001b[39m\"\u001b[39m\u001b[39mxla\u001b[39m\u001b[39m\"\u001b[39m \u001b[39mif\u001b[39;00m \u001b[39mself\u001b[39m\u001b[39m.\u001b[39m_jit_compile \u001b[39melse\u001b[39;00m \u001b[39m\"\u001b[39m\u001b[39mnonXla\u001b[39m\u001b[39m\"\u001b[39m\n\u001b[0;32m    884\u001b[0m \u001b[39mwith\u001b[39;00m OptionalXlaContext(\u001b[39mself\u001b[39m\u001b[39m.\u001b[39m_jit_compile):\n\u001b[1;32m--> 885\u001b[0m   result \u001b[39m=\u001b[39m \u001b[39mself\u001b[39m\u001b[39m.\u001b[39m_call(\u001b[39m*\u001b[39margs, \u001b[39m*\u001b[39m\u001b[39m*\u001b[39mkwds)\n\u001b[0;32m    887\u001b[0m new_tracing_count \u001b[39m=\u001b[39m \u001b[39mself\u001b[39m\u001b[39m.\u001b[39mexperimental_get_tracing_count()\n\u001b[0;32m    888\u001b[0m without_tracing \u001b[39m=\u001b[39m (tracing_count \u001b[39m==\u001b[39m new_tracing_count)\n",
      "File \u001b[1;32mc:\\Users\\Ashwin\\miniconda3\\envs\\tf_gpu\\lib\\site-packages\\tensorflow\\python\\eager\\def_function.py:917\u001b[0m, in \u001b[0;36mFunction._call\u001b[1;34m(self, *args, **kwds)\u001b[0m\n\u001b[0;32m    914\u001b[0m   \u001b[39mself\u001b[39m\u001b[39m.\u001b[39m_lock\u001b[39m.\u001b[39mrelease()\n\u001b[0;32m    915\u001b[0m   \u001b[39m# In this case we have created variables on the first call, so we run the\u001b[39;00m\n\u001b[0;32m    916\u001b[0m   \u001b[39m# defunned version which is guaranteed to never create variables.\u001b[39;00m\n\u001b[1;32m--> 917\u001b[0m   \u001b[39mreturn\u001b[39;00m \u001b[39mself\u001b[39m\u001b[39m.\u001b[39m_stateless_fn(\u001b[39m*\u001b[39margs, \u001b[39m*\u001b[39m\u001b[39m*\u001b[39mkwds)  \u001b[39m# pylint: disable=not-callable\u001b[39;00m\n\u001b[0;32m    918\u001b[0m \u001b[39melif\u001b[39;00m \u001b[39mself\u001b[39m\u001b[39m.\u001b[39m_stateful_fn \u001b[39mis\u001b[39;00m \u001b[39mnot\u001b[39;00m \u001b[39mNone\u001b[39;00m:\n\u001b[0;32m    919\u001b[0m   \u001b[39m# Release the lock early so that multiple threads can perform the call\u001b[39;00m\n\u001b[0;32m    920\u001b[0m   \u001b[39m# in parallel.\u001b[39;00m\n\u001b[0;32m    921\u001b[0m   \u001b[39mself\u001b[39m\u001b[39m.\u001b[39m_lock\u001b[39m.\u001b[39mrelease()\n",
      "File \u001b[1;32mc:\\Users\\Ashwin\\miniconda3\\envs\\tf_gpu\\lib\\site-packages\\tensorflow\\python\\eager\\function.py:3039\u001b[0m, in \u001b[0;36mFunction.__call__\u001b[1;34m(self, *args, **kwargs)\u001b[0m\n\u001b[0;32m   3036\u001b[0m \u001b[39mwith\u001b[39;00m \u001b[39mself\u001b[39m\u001b[39m.\u001b[39m_lock:\n\u001b[0;32m   3037\u001b[0m   (graph_function,\n\u001b[0;32m   3038\u001b[0m    filtered_flat_args) \u001b[39m=\u001b[39m \u001b[39mself\u001b[39m\u001b[39m.\u001b[39m_maybe_define_function(args, kwargs)\n\u001b[1;32m-> 3039\u001b[0m \u001b[39mreturn\u001b[39;00m graph_function\u001b[39m.\u001b[39;49m_call_flat(\n\u001b[0;32m   3040\u001b[0m     filtered_flat_args, captured_inputs\u001b[39m=\u001b[39;49mgraph_function\u001b[39m.\u001b[39;49mcaptured_inputs)\n",
      "File \u001b[1;32mc:\\Users\\Ashwin\\miniconda3\\envs\\tf_gpu\\lib\\site-packages\\tensorflow\\python\\eager\\function.py:1963\u001b[0m, in \u001b[0;36mConcreteFunction._call_flat\u001b[1;34m(self, args, captured_inputs, cancellation_manager)\u001b[0m\n\u001b[0;32m   1959\u001b[0m possible_gradient_type \u001b[39m=\u001b[39m gradients_util\u001b[39m.\u001b[39mPossibleTapeGradientTypes(args)\n\u001b[0;32m   1960\u001b[0m \u001b[39mif\u001b[39;00m (possible_gradient_type \u001b[39m==\u001b[39m gradients_util\u001b[39m.\u001b[39mPOSSIBLE_GRADIENT_TYPES_NONE\n\u001b[0;32m   1961\u001b[0m     \u001b[39mand\u001b[39;00m executing_eagerly):\n\u001b[0;32m   1962\u001b[0m   \u001b[39m# No tape is watching; skip to running the function.\u001b[39;00m\n\u001b[1;32m-> 1963\u001b[0m   \u001b[39mreturn\u001b[39;00m \u001b[39mself\u001b[39m\u001b[39m.\u001b[39m_build_call_outputs(\u001b[39mself\u001b[39;49m\u001b[39m.\u001b[39;49m_inference_function\u001b[39m.\u001b[39;49mcall(\n\u001b[0;32m   1964\u001b[0m       ctx, args, cancellation_manager\u001b[39m=\u001b[39;49mcancellation_manager))\n\u001b[0;32m   1965\u001b[0m forward_backward \u001b[39m=\u001b[39m \u001b[39mself\u001b[39m\u001b[39m.\u001b[39m_select_forward_and_backward_functions(\n\u001b[0;32m   1966\u001b[0m     args,\n\u001b[0;32m   1967\u001b[0m     possible_gradient_type,\n\u001b[0;32m   1968\u001b[0m     executing_eagerly)\n\u001b[0;32m   1969\u001b[0m forward_function, args_with_tangents \u001b[39m=\u001b[39m forward_backward\u001b[39m.\u001b[39mforward()\n",
      "File \u001b[1;32mc:\\Users\\Ashwin\\miniconda3\\envs\\tf_gpu\\lib\\site-packages\\tensorflow\\python\\eager\\function.py:591\u001b[0m, in \u001b[0;36m_EagerDefinedFunction.call\u001b[1;34m(self, ctx, args, cancellation_manager)\u001b[0m\n\u001b[0;32m    589\u001b[0m \u001b[39mwith\u001b[39;00m _InterpolateFunctionError(\u001b[39mself\u001b[39m):\n\u001b[0;32m    590\u001b[0m   \u001b[39mif\u001b[39;00m cancellation_manager \u001b[39mis\u001b[39;00m \u001b[39mNone\u001b[39;00m:\n\u001b[1;32m--> 591\u001b[0m     outputs \u001b[39m=\u001b[39m execute\u001b[39m.\u001b[39;49mexecute(\n\u001b[0;32m    592\u001b[0m         \u001b[39mstr\u001b[39;49m(\u001b[39mself\u001b[39;49m\u001b[39m.\u001b[39;49msignature\u001b[39m.\u001b[39;49mname),\n\u001b[0;32m    593\u001b[0m         num_outputs\u001b[39m=\u001b[39;49m\u001b[39mself\u001b[39;49m\u001b[39m.\u001b[39;49m_num_outputs,\n\u001b[0;32m    594\u001b[0m         inputs\u001b[39m=\u001b[39;49margs,\n\u001b[0;32m    595\u001b[0m         attrs\u001b[39m=\u001b[39;49mattrs,\n\u001b[0;32m    596\u001b[0m         ctx\u001b[39m=\u001b[39;49mctx)\n\u001b[0;32m    597\u001b[0m   \u001b[39melse\u001b[39;00m:\n\u001b[0;32m    598\u001b[0m     outputs \u001b[39m=\u001b[39m execute\u001b[39m.\u001b[39mexecute_with_cancellation(\n\u001b[0;32m    599\u001b[0m         \u001b[39mstr\u001b[39m(\u001b[39mself\u001b[39m\u001b[39m.\u001b[39msignature\u001b[39m.\u001b[39mname),\n\u001b[0;32m    600\u001b[0m         num_outputs\u001b[39m=\u001b[39m\u001b[39mself\u001b[39m\u001b[39m.\u001b[39m_num_outputs,\n\u001b[1;32m   (...)\u001b[0m\n\u001b[0;32m    603\u001b[0m         ctx\u001b[39m=\u001b[39mctx,\n\u001b[0;32m    604\u001b[0m         cancellation_manager\u001b[39m=\u001b[39mcancellation_manager)\n",
      "File \u001b[1;32mc:\\Users\\Ashwin\\miniconda3\\envs\\tf_gpu\\lib\\site-packages\\tensorflow\\python\\eager\\execute.py:59\u001b[0m, in \u001b[0;36mquick_execute\u001b[1;34m(op_name, num_outputs, inputs, attrs, ctx, name)\u001b[0m\n\u001b[0;32m     57\u001b[0m \u001b[39mtry\u001b[39;00m:\n\u001b[0;32m     58\u001b[0m   ctx\u001b[39m.\u001b[39mensure_initialized()\n\u001b[1;32m---> 59\u001b[0m   tensors \u001b[39m=\u001b[39m pywrap_tfe\u001b[39m.\u001b[39;49mTFE_Py_Execute(ctx\u001b[39m.\u001b[39;49m_handle, device_name, op_name,\n\u001b[0;32m     60\u001b[0m                                       inputs, attrs, num_outputs)\n\u001b[0;32m     61\u001b[0m \u001b[39mexcept\u001b[39;00m core\u001b[39m.\u001b[39m_NotOkStatusException \u001b[39mas\u001b[39;00m e:\n\u001b[0;32m     62\u001b[0m   \u001b[39mif\u001b[39;00m name \u001b[39mis\u001b[39;00m \u001b[39mnot\u001b[39;00m \u001b[39mNone\u001b[39;00m:\n",
      "\u001b[1;31mKeyboardInterrupt\u001b[0m: "
     ]
    }
   ],
   "source": [
    "history=model.fit(X_train,y_train,batch_size=100,epochs=100,validation_data=(X_val,y_val))"
   ]
  },
  {
   "cell_type": "code",
   "execution_count": null,
   "metadata": {},
   "outputs": [
    {
     "data": {
      "text/plain": [
       "[<matplotlib.lines.Line2D at 0x2b9cbb540a0>]"
      ]
     },
     "execution_count": 15,
     "metadata": {},
     "output_type": "execute_result"
    },
    {
     "data": {
      "image/png": "[encoded data removed]",
      "text/plain": [
       "<Figure size 432x288 with 1 Axes>"
      ]
     },
     "metadata": {
      "needs_background": "light"
     },
     "output_type": "display_data"
    }
   ],
   "source": [
    "plt.plot(history.history[\"loss\"],color=\"red\")\n",
    "plt.plot(history.history[\"val_loss\"],color=\"blue\")"
   ]
  },
  {
   "cell_type": "code",
   "execution_count": null,
   "metadata": {},
   "outputs": [],
   "source": []
  }
 ],
 "metadata": {
  "kernelspec": {
   "display_name": "Python 3.9.12 ('tf_gpu')",
   "language": "python",
   "name": "python3"
  },
  "language_info": {
   "codemirror_mode": {
    "name": "ipython",
    "version": 3
   },
   "file_extension": ".py",
   "mimetype": "text/x-python",
   "name": "python",
   "nbconvert_exporter": "python",
   "pygments_lexer": "ipython3",
   "version": "3.9.12"
  },
  "orig_nbformat": 4,
  "vscode": {
   "interpreter": {
    "hash": "197295b20122369b6502e224a1410f8bc9b22cbbcad42d16b957c3154cf64235"
   }
  }
 },
 "nbformat": 4,
 "nbformat_minor": 2
}
