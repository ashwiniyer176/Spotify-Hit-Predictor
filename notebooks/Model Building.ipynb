{
 "cells": [
  {
   "cell_type": "markdown",
   "metadata": {},
   "source": [
    "## Modelling Notebook\n",
    "\n",
    "This notebook is to be used for testing out the various models that you want to use. No preprocessing will be done in this notebook. Steps:\n",
    "\n",
    "1. Read in `input/train.csv`,`input/test.csv`,`input/validation.csv` that you created in the `Data Cleaning.ipynb`\n",
    "2. Train your model(s) on `input/train.csv` and EVALUATE (no training) with appropriate metrics (accuracy/MSE etc) on `input/validation.csv` \n",
    "3. Pick a final model and EVALUATE(no training) on `input/test.csv` and print metrics\n",
    "3. Pick a final model and save it as `models/model.pkl`"
   ]
  },
  {
   "cell_type": "code",
   "execution_count": 1,
   "metadata": {},
   "outputs": [],
   "source": [
    "import numpy as np\n",
    "import pandas as pd\n",
    "import tensorflow as tf\n",
    "import matplotlib.pyplot as plt\n",
    "from tensorflow.keras.models import Sequential\n",
    "from tensorflow.keras import layers"
   ]
  },
  {
   "cell_type": "code",
   "execution_count": 2,
   "metadata": {},
   "outputs": [],
   "source": [
    "train_df=pd.read_csv(\"../input/train.csv\")\n",
    "test_df=pd.read_csv(\"../input/test.csv\")\n",
    "validation_df=pd.read_csv(\"../input/validation.csv\")"
   ]
  },
  {
   "cell_type": "code",
   "execution_count": 3,
   "metadata": {},
   "outputs": [],
   "source": [
    "def return_X_and_y(df):\n",
    "    return df.drop(columns=[\"target\"]),df[\"target\"]"
   ]
  },
  {
   "cell_type": "code",
   "execution_count": 4,
   "metadata": {},
   "outputs": [],
   "source": [
    "X_train,y_train=return_X_and_y(train_df)\n",
    "X_test,y_test=return_X_and_y(test_df)\n",
    "X_val,y_val=return_X_and_y(validation_df)"
   ]
  },
  {
   "cell_type": "code",
   "execution_count": 5,
   "metadata": {},
   "outputs": [
    {
     "data": {
      "text/plain": [
       "(27541, 17)"
      ]
     },
     "execution_count": 5,
     "metadata": {},
     "output_type": "execute_result"
    }
   ],
   "source": [
    "X_train.shape"
   ]
  },
  {
   "cell_type": "code",
   "execution_count": 6,
   "metadata": {},
   "outputs": [],
   "source": [
    "model=Sequential()\n",
    "model.add(layers.Dense(100,activation=\"relu\",input_shape=(X_train.shape[1],)))\n",
    "model.add(layers.Dense(50,activation=\"relu\"))\n",
    "model.add(layers.Dense(50,activation=\"relu\"))\n",
    "model.add(layers.Dense(1,activation=\"sigmoid\"))"
   ]
  },
  {
   "cell_type": "code",
   "execution_count": 7,
   "metadata": {},
   "outputs": [
    {
     "name": "stdout",
     "output_type": "stream",
     "text": [
      "Model: \"sequential\"\n",
      "_________________________________________________________________\n",
      "Layer (type)                 Output Shape              Param #   \n",
      "=================================================================\n",
      "dense (Dense)                (None, 100)               1800      \n",
      "_________________________________________________________________\n",
      "dense_1 (Dense)              (None, 50)                5050      \n",
      "_________________________________________________________________\n",
      "dense_2 (Dense)              (None, 50)                2550      \n",
      "_________________________________________________________________\n",
      "dense_3 (Dense)              (None, 1)                 51        \n",
      "=================================================================\n",
      "Total params: 9,451\n",
      "Trainable params: 9,451\n",
      "Non-trainable params: 0\n",
      "_________________________________________________________________\n"
     ]
    }
   ],
   "source": [
    "model.summary()"
   ]
  },
  {
   "cell_type": "code",
   "execution_count": 8,
   "metadata": {},
   "outputs": [
    {
     "data": {
      "text/plain": [
       "1    13798\n",
       "0    13743\n",
       "Name: target, dtype: int64"
      ]
     },
     "execution_count": 8,
     "metadata": {},
     "output_type": "execute_result"
    }
   ],
   "source": [
    "y_train.value_counts()"
   ]
  },
  {
   "cell_type": "code",
   "execution_count": 9,
   "metadata": {},
   "outputs": [],
   "source": [
    "model.compile(loss='binary_crossentropy', optimizer='adam', metrics=['accuracy'])"
   ]
  },
  {
   "cell_type": "code",
   "execution_count": 10,
   "metadata": {},
   "outputs": [
    {
     "name": "stdout",
     "output_type": "stream",
     "text": [
      "Epoch 1/50\n",
      "276/276 [==============================] - 3s 5ms/step - loss: 0.5393 - accuracy: 0.7209 - val_loss: 0.4926 - val_accuracy: 0.7614\n",
      "Epoch 2/50\n",
      "276/276 [==============================] - 1s 4ms/step - loss: 0.4953 - accuracy: 0.7573 - val_loss: 0.4763 - val_accuracy: 0.7722\n",
      "Epoch 3/50\n",
      "276/276 [==============================] - 1s 4ms/step - loss: 0.4822 - accuracy: 0.7673 - val_loss: 0.4681 - val_accuracy: 0.7764\n",
      "Epoch 4/50\n",
      "276/276 [==============================] - 1s 4ms/step - loss: 0.4747 - accuracy: 0.7692 - val_loss: 0.4616 - val_accuracy: 0.7796\n",
      "Epoch 5/50\n",
      "276/276 [==============================] - 1s 4ms/step - loss: 0.4704 - accuracy: 0.7738 - val_loss: 0.4669 - val_accuracy: 0.7743\n",
      "Epoch 6/50\n",
      "276/276 [==============================] - 1s 4ms/step - loss: 0.4641 - accuracy: 0.7781 - val_loss: 0.4574 - val_accuracy: 0.7813\n",
      "Epoch 7/50\n",
      "276/276 [==============================] - 1s 4ms/step - loss: 0.4631 - accuracy: 0.7786 - val_loss: 0.4542 - val_accuracy: 0.7847\n",
      "Epoch 8/50\n",
      "276/276 [==============================] - 1s 4ms/step - loss: 0.4580 - accuracy: 0.7817 - val_loss: 0.4462 - val_accuracy: 0.7902\n",
      "Epoch 9/50\n",
      "276/276 [==============================] - 1s 4ms/step - loss: 0.4540 - accuracy: 0.7832 - val_loss: 0.4447 - val_accuracy: 0.7891\n",
      "Epoch 10/50\n",
      "276/276 [==============================] - 1s 4ms/step - loss: 0.4511 - accuracy: 0.7856 - val_loss: 0.4483 - val_accuracy: 0.7902\n",
      "Epoch 11/50\n",
      "276/276 [==============================] - 1s 4ms/step - loss: 0.4511 - accuracy: 0.7849 - val_loss: 0.4549 - val_accuracy: 0.7835\n",
      "Epoch 12/50\n",
      "276/276 [==============================] - 1s 4ms/step - loss: 0.4468 - accuracy: 0.7890 - val_loss: 0.4448 - val_accuracy: 0.7909\n",
      "Epoch 13/50\n",
      "276/276 [==============================] - 1s 4ms/step - loss: 0.4467 - accuracy: 0.7897 - val_loss: 0.4461 - val_accuracy: 0.7884\n",
      "Epoch 14/50\n",
      "276/276 [==============================] - 1s 4ms/step - loss: 0.4437 - accuracy: 0.7904 - val_loss: 0.4377 - val_accuracy: 0.7948\n",
      "Epoch 15/50\n",
      "276/276 [==============================] - 1s 4ms/step - loss: 0.4407 - accuracy: 0.7920 - val_loss: 0.4357 - val_accuracy: 0.7969\n",
      "Epoch 16/50\n",
      "276/276 [==============================] - 1s 4ms/step - loss: 0.4395 - accuracy: 0.7922 - val_loss: 0.4373 - val_accuracy: 0.7959\n",
      "Epoch 17/50\n",
      "276/276 [==============================] - 1s 4ms/step - loss: 0.4384 - accuracy: 0.7939 - val_loss: 0.4357 - val_accuracy: 0.8002\n",
      "Epoch 18/50\n",
      "276/276 [==============================] - 1s 4ms/step - loss: 0.4350 - accuracy: 0.7962 - val_loss: 0.4315 - val_accuracy: 0.7999\n",
      "Epoch 19/50\n",
      "276/276 [==============================] - 1s 4ms/step - loss: 0.4335 - accuracy: 0.7962 - val_loss: 0.4386 - val_accuracy: 0.7960\n",
      "Epoch 20/50\n",
      "276/276 [==============================] - 1s 4ms/step - loss: 0.4340 - accuracy: 0.7975 - val_loss: 0.4294 - val_accuracy: 0.7994\n",
      "Epoch 21/50\n",
      "276/276 [==============================] - 1s 4ms/step - loss: 0.4319 - accuracy: 0.7975 - val_loss: 0.4297 - val_accuracy: 0.8000\n",
      "Epoch 22/50\n",
      "276/276 [==============================] - 1s 4ms/step - loss: 0.4299 - accuracy: 0.7981 - val_loss: 0.4295 - val_accuracy: 0.8015\n",
      "Epoch 23/50\n",
      "276/276 [==============================] - 1s 4ms/step - loss: 0.4279 - accuracy: 0.8014 - val_loss: 0.4510 - val_accuracy: 0.7866\n",
      "Epoch 24/50\n",
      "276/276 [==============================] - 1s 4ms/step - loss: 0.4269 - accuracy: 0.8000 - val_loss: 0.4306 - val_accuracy: 0.8019\n",
      "Epoch 25/50\n",
      "276/276 [==============================] - 1s 4ms/step - loss: 0.4244 - accuracy: 0.8035 - val_loss: 0.4232 - val_accuracy: 0.8065\n",
      "Epoch 26/50\n",
      "276/276 [==============================] - 1s 4ms/step - loss: 0.4243 - accuracy: 0.8033 - val_loss: 0.4253 - val_accuracy: 0.8026\n",
      "Epoch 27/50\n",
      "276/276 [==============================] - 1s 4ms/step - loss: 0.4203 - accuracy: 0.8067 - val_loss: 0.4251 - val_accuracy: 0.8035\n",
      "Epoch 28/50\n",
      "276/276 [==============================] - 1s 4ms/step - loss: 0.4203 - accuracy: 0.8053 - val_loss: 0.4212 - val_accuracy: 0.8075\n",
      "Epoch 29/50\n",
      "276/276 [==============================] - 1s 4ms/step - loss: 0.4170 - accuracy: 0.8059 - val_loss: 0.4216 - val_accuracy: 0.8058\n",
      "Epoch 30/50\n",
      "276/276 [==============================] - 1s 4ms/step - loss: 0.4164 - accuracy: 0.8063 - val_loss: 0.4191 - val_accuracy: 0.8067\n",
      "Epoch 31/50\n",
      "276/276 [==============================] - 1s 4ms/step - loss: 0.4150 - accuracy: 0.8081 - val_loss: 0.4268 - val_accuracy: 0.8024\n",
      "Epoch 32/50\n",
      "276/276 [==============================] - 1s 4ms/step - loss: 0.4166 - accuracy: 0.8062 - val_loss: 0.4162 - val_accuracy: 0.8086\n",
      "Epoch 33/50\n",
      "276/276 [==============================] - 1s 4ms/step - loss: 0.4125 - accuracy: 0.8103 - val_loss: 0.4269 - val_accuracy: 0.8040\n",
      "Epoch 34/50\n",
      "276/276 [==============================] - 1s 4ms/step - loss: 0.4108 - accuracy: 0.8109 - val_loss: 0.4227 - val_accuracy: 0.8061\n",
      "Epoch 35/50\n",
      "276/276 [==============================] - 1s 4ms/step - loss: 0.4103 - accuracy: 0.8101 - val_loss: 0.4140 - val_accuracy: 0.8107\n",
      "Epoch 36/50\n",
      "276/276 [==============================] - 1s 4ms/step - loss: 0.4081 - accuracy: 0.8110 - val_loss: 0.4137 - val_accuracy: 0.8128\n",
      "Epoch 37/50\n",
      "276/276 [==============================] - 1s 4ms/step - loss: 0.4071 - accuracy: 0.8131 - val_loss: 0.4167 - val_accuracy: 0.8118\n",
      "Epoch 38/50\n",
      "276/276 [==============================] - 1s 4ms/step - loss: 0.4043 - accuracy: 0.8131 - val_loss: 0.4121 - val_accuracy: 0.8148\n",
      "Epoch 39/50\n",
      "276/276 [==============================] - 1s 4ms/step - loss: 0.4020 - accuracy: 0.8163 - val_loss: 0.4268 - val_accuracy: 0.8037\n",
      "Epoch 40/50\n",
      "276/276 [==============================] - 1s 4ms/step - loss: 0.4017 - accuracy: 0.8162 - val_loss: 0.4169 - val_accuracy: 0.8097\n",
      "Epoch 41/50\n",
      "276/276 [==============================] - 1s 4ms/step - loss: 0.4005 - accuracy: 0.8174 - val_loss: 0.4138 - val_accuracy: 0.8087\n",
      "Epoch 42/50\n",
      "276/276 [==============================] - 1s 4ms/step - loss: 0.3997 - accuracy: 0.8153 - val_loss: 0.4094 - val_accuracy: 0.8113\n",
      "Epoch 43/50\n",
      "276/276 [==============================] - 1s 4ms/step - loss: 0.4013 - accuracy: 0.8166 - val_loss: 0.4092 - val_accuracy: 0.8154\n",
      "Epoch 44/50\n",
      "276/276 [==============================] - 1s 4ms/step - loss: 0.3993 - accuracy: 0.8176 - val_loss: 0.4156 - val_accuracy: 0.8081\n",
      "Epoch 45/50\n",
      "276/276 [==============================] - 1s 4ms/step - loss: 0.3941 - accuracy: 0.8208 - val_loss: 0.4172 - val_accuracy: 0.8084\n",
      "Epoch 46/50\n",
      "276/276 [==============================] - 1s 4ms/step - loss: 0.3941 - accuracy: 0.8182 - val_loss: 0.4111 - val_accuracy: 0.8133\n",
      "Epoch 47/50\n",
      "276/276 [==============================] - 1s 4ms/step - loss: 0.3930 - accuracy: 0.8193 - val_loss: 0.4085 - val_accuracy: 0.8162\n",
      "Epoch 48/50\n",
      "276/276 [==============================] - 1s 4ms/step - loss: 0.3927 - accuracy: 0.8201 - val_loss: 0.4056 - val_accuracy: 0.8148\n",
      "Epoch 49/50\n",
      "276/276 [==============================] - 1s 4ms/step - loss: 0.3900 - accuracy: 0.8207 - val_loss: 0.4054 - val_accuracy: 0.8170\n",
      "Epoch 50/50\n",
      "276/276 [==============================] - 1s 4ms/step - loss: 0.3897 - accuracy: 0.8218 - val_loss: 0.4107 - val_accuracy: 0.8129\n"
     ]
    }
   ],
   "source": [
    "history=model.fit(X_train,y_train,batch_size=100,epochs=50,validation_data=(X_val,y_val))"
   ]
  },
  {
   "cell_type": "code",
   "execution_count": 11,
   "metadata": {},
   "outputs": [
    {
     "data": {
      "text/plain": [
       "[<matplotlib.lines.Line2D at 0x15b38108a30>]"
      ]
     },
     "execution_count": 11,
     "metadata": {},
     "output_type": "execute_result"
    },
    {
     "data": {
      "image/png": "[encoded data removed]",
      "text/plain": [
       "<Figure size 432x288 with 1 Axes>"
      ]
     },
     "metadata": {
      "needs_background": "light"
     },
     "output_type": "display_data"
    }
   ],
   "source": [
    "plt.plot(history.history[\"loss\"],color=\"red\")\n",
    "plt.plot(history.history[\"val_loss\"],color=\"blue\")"
   ]
  }
 ],
 "metadata": {
  "kernelspec": {
   "display_name": "Python 3.9.12 ('tf_gpu')",
   "language": "python",
   "name": "python3"
  },
  "language_info": {
   "codemirror_mode": {
    "name": "ipython",
    "version": 3
   },
   "file_extension": ".py",
   "mimetype": "text/x-python",
   "name": "python",
   "nbconvert_exporter": "python",
   "pygments_lexer": "ipython3",
   "version": "3.9.12"
  },
  "orig_nbformat": 4,
  "vscode": {
   "interpreter": {
    "hash": "197295b20122369b6502e224a1410f8bc9b22cbbcad42d16b957c3154cf64235"
   }
  }
 },
 "nbformat": 4,
 "nbformat_minor": 2
}
