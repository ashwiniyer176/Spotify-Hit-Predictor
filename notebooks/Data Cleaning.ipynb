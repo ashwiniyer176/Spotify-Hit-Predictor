{
 "cells": [
  {
   "cell_type": "markdown",
   "metadata": {},
   "source": [
    "## Data Cleaning and Preprocessing Notebook\n",
    "\n",
    "This notebook is to be strictly used for data cleaning and preprocessing purposes. Steps:\n",
    "\n",
    "1. Read the dataset\n",
    "2. Handle Missing Values (if any).\n",
    "3. Do visualizations as required\n",
    "4. Explore your data here\n",
    "5. Save the cleaned and processed dataset as `data/final_dataset.csv`.\n",
    "6. Split the dataset obtained in step 5 as `input/train.csv`,`input/test.csv`,`input/validation.csv`\n",
    "\n",
    "NO MODELLING WILL BE DONE IN THIS NOTEBOOK!"
   ]
  },
  {
   "cell_type": "code",
   "execution_count": 1,
   "metadata": {},
   "outputs": [],
   "source": [
    "import numpy as np\n",
    "import pandas as pd\n",
    "import matplotlib.pyplot as plt\n",
    "import seaborn as sns\n",
    "import os"
   ]
  },
  {
   "cell_type": "code",
   "execution_count": 2,
   "metadata": {},
   "outputs": [
    {
     "name": "stdout",
     "output_type": "stream",
     "text": [
      "['dataset-of-00s.csv', 'dataset-of-10s.csv', 'dataset-of-60s.csv', 'dataset-of-70s.csv', 'dataset-of-80s.csv', 'dataset-of-90s.csv', 'README.md']\n"
     ]
    }
   ],
   "source": [
    "print(os.listdir(\"../data/\"))"
   ]
  },
  {
   "cell_type": "code",
   "execution_count": 3,
   "metadata": {},
   "outputs": [],
   "source": [
    "def read_df_and_add_year(dir_path):\n",
    "    df=pd.DataFrame()\n",
    "    for i in os.listdir(dir_path):\n",
    "        if os.path.splitext(i)[-1]==\".csv\":\n",
    "            new=pd.read_csv(os.path.join(dir_path,i))\n",
    "            filename=os.path.splitext(i)[0]\n",
    "            filename=filename.split(\"-\")[-1]\n",
    "            filename=filename[:-1]\n",
    "            if int(filename)>10:\n",
    "                new[\"decade\"]=1900+int(filename)\n",
    "            else:\n",
    "                new[\"decade\"]=2000+int(filename)\n",
    "            df=pd.concat([df,new])\n",
    "    return df"
   ]
  },
  {
   "cell_type": "code",
   "execution_count": 4,
   "metadata": {},
   "outputs": [],
   "source": [
    "combined=read_df_and_add_year(\"../data/\")"
   ]
  },
  {
   "cell_type": "code",
   "execution_count": 5,
   "metadata": {},
   "outputs": [],
   "source": [
    "combined.to_csv(\"../data/combined_music_data.csv\",index=False)"
   ]
  },
  {
   "cell_type": "code",
   "execution_count": 6,
   "metadata": {},
   "outputs": [
    {
     "name": "stderr",
     "output_type": "stream",
     "text": [
      "c:\\Users\\Ashwin\\miniconda3\\lib\\site-packages\\seaborn\\_decorators.py:36: FutureWarning: Pass the following variable as a keyword arg: x. From version 0.12, the only valid positional argument will be `data`, and passing other arguments without an explicit keyword will result in an error or misinterpretation.\n",
      "  warnings.warn(\n"
     ]
    },
    {
     "data": {
      "text/plain": [
       "<AxesSubplot:xlabel='target', ylabel='count'>"
      ]
     },
     "execution_count": 6,
     "metadata": {},
     "output_type": "execute_result"
    },
    {
     "data": {
      "image/png": "[encoded data removed]",
      "text/plain": [
       "<Figure size 432x288 with 1 Axes>"
      ]
     },
     "metadata": {
      "needs_background": "light"
     },
     "output_type": "display_data"
    }
   ],
   "source": [
    "sns.countplot(combined.target)"
   ]
  },
  {
   "cell_type": "markdown",
   "metadata": {},
   "source": [
    "We thus have a balanced dataset here, with equal representation for both hits and flops. The dataset is large enough (40000 rows) and will be suitable for modelling audio data"
   ]
  },
  {
   "cell_type": "code",
   "execution_count": 7,
   "metadata": {},
   "outputs": [
    {
     "data": {
      "text/plain": [
       "track               0\n",
       "artist              0\n",
       "uri                 0\n",
       "danceability        0\n",
       "energy              0\n",
       "key                 0\n",
       "loudness            0\n",
       "mode                0\n",
       "speechiness         0\n",
       "acousticness        0\n",
       "instrumentalness    0\n",
       "liveness            0\n",
       "valence             0\n",
       "tempo               0\n",
       "duration_ms         0\n",
       "time_signature      0\n",
       "chorus_hit          0\n",
       "sections            0\n",
       "target              0\n",
       "decade              0\n",
       "dtype: int64"
      ]
     },
     "execution_count": 7,
     "metadata": {},
     "output_type": "execute_result"
    }
   ],
   "source": [
    "combined.isnull().sum()"
   ]
  },
  {
   "cell_type": "markdown",
   "metadata": {},
   "source": [
    "We have no null values either, making this a very useful dataset"
   ]
  },
  {
   "cell_type": "code",
   "execution_count": 9,
   "metadata": {},
   "outputs": [],
   "source": [
    "combined[combined['target']==1].to_csv(\"../data/Hit_Songs_Dataset.csv\",index=False)\n",
    "combined[combined['target']==0].to_csv(\"../data/Flop_Songs_Dataset.csv\",index=False)"
   ]
  },
  {
   "cell_type": "code",
   "execution_count": null,
   "metadata": {},
   "outputs": [],
   "source": []
  }
 ],
 "metadata": {
  "kernelspec": {
   "display_name": "Python 3.9.12 ('base')",
   "language": "python",
   "name": "python3"
  },
  "language_info": {
   "codemirror_mode": {
    "name": "ipython",
    "version": 3
   },
   "file_extension": ".py",
   "mimetype": "text/x-python",
   "name": "python",
   "nbconvert_exporter": "python",
   "pygments_lexer": "ipython3",
   "version": "3.9.12"
  },
  "orig_nbformat": 4,
  "vscode": {
   "interpreter": {
    "hash": "e42ca19445ab0fe74bde66dd3915d40905a7e357d5d24ce92a60d051aac734a0"
   }
  }
 },
 "nbformat": 4,
 "nbformat_minor": 2
}
